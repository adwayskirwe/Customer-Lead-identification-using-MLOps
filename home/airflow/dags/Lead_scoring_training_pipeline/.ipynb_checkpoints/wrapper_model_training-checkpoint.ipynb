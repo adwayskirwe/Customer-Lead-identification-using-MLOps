{
 "cells": [
  {
   "cell_type": "code",
   "execution_count": 1,
   "id": "aab7e956-1a94-4926-9015-4c44db4f3239",
   "metadata": {},
   "outputs": [],
   "source": [
    "# import libraries and packages\n",
    "import numpy as np\n",
    "import pandas as pd \n",
    "import matplotlib.pyplot as plt\n",
    "import mlflow\n",
    "from pycaret.classification import *\n",
    "import sqlite3\n",
    "from sqlite3 import Error\n",
    "\n",
    "import os \n",
    "import sqlite3\n",
    "from sqlite3 import Error\n",
    "\n",
    "import warnings\n",
    "warnings.filterwarnings(\"ignore\")\n",
    "\n",
    "import importlib.util"
   ]
  },
  {
   "cell_type": "code",
   "execution_count": 2,
   "id": "10086f06-7db0-4b70-a46d-28bc2fb65af2",
   "metadata": {},
   "outputs": [],
   "source": [
    "def module_from_file(module_name, file_path):\n",
    "    spec = importlib.util.spec_from_file_location(module_name, file_path)\n",
    "    module = importlib.util.module_from_spec(spec)\n",
    "    spec.loader.exec_module(module)\n",
    "    return module\n",
    "\n",
    "utils = module_from_file(\"utils\", \"/home/airflow/dags/Lead_scoring_training_pipeline/utils.py\")\n",
    "constants = module_from_file(\"constants\", \"/home/airflow/dags/Lead_scoring_training_pipeline/constants.py\")\n"
   ]
  },
  {
   "cell_type": "code",
   "execution_count": 3,
   "id": "5ef070b7-9e22-4dec-8b94-6ea9ed86a616",
   "metadata": {},
   "outputs": [
    {
     "name": "stdout",
     "output_type": "stream",
     "text": [
      "Dataset shape before OHE = (238964, 7)\n"
     ]
    },
    {
     "data": {
      "text/html": [
       "<div>\n",
       "<style scoped>\n",
       "    .dataframe tbody tr th:only-of-type {\n",
       "        vertical-align: middle;\n",
       "    }\n",
       "\n",
       "    .dataframe tbody tr th {\n",
       "        vertical-align: top;\n",
       "    }\n",
       "\n",
       "    .dataframe thead th {\n",
       "        text-align: right;\n",
       "    }\n",
       "</style>\n",
       "<table border=\"1\" class=\"dataframe\">\n",
       "  <thead>\n",
       "    <tr style=\"text-align: right;\">\n",
       "      <th></th>\n",
       "      <th>first_platform_c</th>\n",
       "      <th>first_utm_medium_c</th>\n",
       "      <th>first_utm_source_c</th>\n",
       "      <th>total_leads_droppped</th>\n",
       "      <th>city_tier</th>\n",
       "      <th>referred_lead</th>\n",
       "      <th>app_complete_flag</th>\n",
       "    </tr>\n",
       "  </thead>\n",
       "  <tbody>\n",
       "    <tr>\n",
       "      <th>0</th>\n",
       "      <td>Level0</td>\n",
       "      <td>Level11</td>\n",
       "      <td>Level2</td>\n",
       "      <td>1.0</td>\n",
       "      <td>1.0</td>\n",
       "      <td>0.0</td>\n",
       "      <td>1</td>\n",
       "    </tr>\n",
       "    <tr>\n",
       "      <th>1</th>\n",
       "      <td>Level3</td>\n",
       "      <td>Level0</td>\n",
       "      <td>others</td>\n",
       "      <td>1.0</td>\n",
       "      <td>2.0</td>\n",
       "      <td>0.0</td>\n",
       "      <td>1</td>\n",
       "    </tr>\n",
       "    <tr>\n",
       "      <th>2</th>\n",
       "      <td>Level3</td>\n",
       "      <td>Level0</td>\n",
       "      <td>Level0</td>\n",
       "      <td>1.0</td>\n",
       "      <td>1.0</td>\n",
       "      <td>0.0</td>\n",
       "      <td>1</td>\n",
       "    </tr>\n",
       "  </tbody>\n",
       "</table>\n",
       "</div>"
      ],
      "text/plain": [
       "  first_platform_c first_utm_medium_c first_utm_source_c  \\\n",
       "0           Level0            Level11             Level2   \n",
       "1           Level3             Level0             others   \n",
       "2           Level3             Level0             Level0   \n",
       "\n",
       "   total_leads_droppped  city_tier  referred_lead  app_complete_flag  \n",
       "0                   1.0        1.0            0.0                  1  \n",
       "1                   1.0        2.0            0.0                  1  \n",
       "2                   1.0        1.0            0.0                  1  "
      ]
     },
     "execution_count": 3,
     "metadata": {},
     "output_type": "execute_result"
    }
   ],
   "source": [
    "data_pipeline_connection = sqlite3.connect(\"/home/airflow/dags/Lead_scoring_data_pipeline/lead_scoring_data_cleaning.db\")\n",
    "dataset = pd.read_sql('select * from model_input', data_pipeline_connection)\n",
    "print(f\"Dataset shape before OHE = {dataset.shape}\")\n",
    "dataset.head(3)"
   ]
  },
  {
   "cell_type": "code",
   "execution_count": 4,
   "id": "d2561fd3-8a49-4c32-836f-e4fb2cd981cc",
   "metadata": {},
   "outputs": [],
   "source": [
    "mlflow.set_tracking_uri(\"http://0.0.0.0:6006\")"
   ]
  },
  {
   "cell_type": "code",
   "execution_count": 5,
   "id": "7f32635a-08d8-4dee-a959-d0235c14b94e",
   "metadata": {},
   "outputs": [
    {
     "name": "stdout",
     "output_type": "stream",
     "text": [
      "2.6.0\n"
     ]
    }
   ],
   "source": [
    "utils.create_MLflow_DB_sqlit_connection(\"/home/airflow/dags/Lead_scoring_training_pipeline/\",\"Lead_scoring_mlflow_production.db\")"
   ]
  },
  {
   "cell_type": "code",
   "execution_count": 6,
   "id": "154e9d55-89ef-4ea7-87f6-1e1aca89d108",
   "metadata": {},
   "outputs": [],
   "source": [
    "utils.encode_features(\"/home/airflow/dags/Lead_scoring_data_pipeline/\",\"lead_scoring_data_cleaning.db\", ['first_platform_c','first_utm_medium_c','first_utm_source_c'])"
   ]
  },
  {
   "cell_type": "code",
   "execution_count": 7,
   "id": "c28d9ef2-73aa-435f-b3f9-bb65d30ddaa7",
   "metadata": {},
   "outputs": [],
   "source": [
    "dataset = pd.read_sql('select * from features', data_pipeline_connection)\n",
    "target = pd.read_sql('select * from target', data_pipeline_connection)"
   ]
  },
  {
   "cell_type": "code",
   "execution_count": 8,
   "id": "00288936-5ce0-4013-9bbe-54487e1f1588",
   "metadata": {},
   "outputs": [
    {
     "name": "stdout",
     "output_type": "stream",
     "text": [
      "Features Dataset shape AFTER OHE = (238964, 38)\n",
      "Target Dataset shape AFTER OHE = (238964, 1)\n",
      "<class 'pandas.core.frame.DataFrame'>\n",
      "RangeIndex: 238964 entries, 0 to 238963\n",
      "Data columns (total 38 columns):\n",
      " #   Column                      Non-Null Count   Dtype  \n",
      "---  ------                      --------------   -----  \n",
      " 0   total_leads_droppped        238964 non-null  float64\n",
      " 1   city_tier                   238964 non-null  float64\n",
      " 2   referred_lead               238964 non-null  float64\n",
      " 3   first_platform_c_Level0     238964 non-null  int64  \n",
      " 4   first_platform_c_Level1     238964 non-null  int64  \n",
      " 5   first_platform_c_Level2     238964 non-null  int64  \n",
      " 6   first_platform_c_Level3     238964 non-null  int64  \n",
      " 7   first_platform_c_Level7     238964 non-null  int64  \n",
      " 8   first_platform_c_Level8     238964 non-null  int64  \n",
      " 9   first_platform_c_others     238964 non-null  int64  \n",
      " 10  first_utm_medium_c_Level0   238964 non-null  int64  \n",
      " 11  first_utm_medium_c_Level10  238964 non-null  int64  \n",
      " 12  first_utm_medium_c_Level11  238964 non-null  int64  \n",
      " 13  first_utm_medium_c_Level13  238964 non-null  int64  \n",
      " 14  first_utm_medium_c_Level15  238964 non-null  int64  \n",
      " 15  first_utm_medium_c_Level16  238964 non-null  int64  \n",
      " 16  first_utm_medium_c_Level2   238964 non-null  int64  \n",
      " 17  first_utm_medium_c_Level20  238964 non-null  int64  \n",
      " 18  first_utm_medium_c_Level26  238964 non-null  int64  \n",
      " 19  first_utm_medium_c_Level3   238964 non-null  int64  \n",
      " 20  first_utm_medium_c_Level30  238964 non-null  int64  \n",
      " 21  first_utm_medium_c_Level33  238964 non-null  int64  \n",
      " 22  first_utm_medium_c_Level4   238964 non-null  int64  \n",
      " 23  first_utm_medium_c_Level43  238964 non-null  int64  \n",
      " 24  first_utm_medium_c_Level5   238964 non-null  int64  \n",
      " 25  first_utm_medium_c_Level6   238964 non-null  int64  \n",
      " 26  first_utm_medium_c_Level8   238964 non-null  int64  \n",
      " 27  first_utm_medium_c_Level9   238964 non-null  int64  \n",
      " 28  first_utm_medium_c_others   238964 non-null  int64  \n",
      " 29  first_utm_source_c_Level0   238964 non-null  int64  \n",
      " 30  first_utm_source_c_Level14  238964 non-null  int64  \n",
      " 31  first_utm_source_c_Level16  238964 non-null  int64  \n",
      " 32  first_utm_source_c_Level2   238964 non-null  int64  \n",
      " 33  first_utm_source_c_Level4   238964 non-null  int64  \n",
      " 34  first_utm_source_c_Level5   238964 non-null  int64  \n",
      " 35  first_utm_source_c_Level6   238964 non-null  int64  \n",
      " 36  first_utm_source_c_Level7   238964 non-null  int64  \n",
      " 37  first_utm_source_c_others   238964 non-null  int64  \n",
      "dtypes: float64(3), int64(35)\n",
      "memory usage: 69.3 MB\n",
      "None\n"
     ]
    }
   ],
   "source": [
    "print(f\"Features Dataset shape AFTER OHE = {dataset.shape}\")\n",
    "print(f\"Target Dataset shape AFTER OHE = {target.shape}\")\n",
    "print(dataset.info())"
   ]
  },
  {
   "cell_type": "code",
   "execution_count": 9,
   "id": "b4f40459-b78c-4d33-b2b4-3f0b757abc62",
   "metadata": {},
   "outputs": [
    {
     "name": "stderr",
     "output_type": "stream",
     "text": [
      "2022/10/05 05:54:26 INFO mlflow.tracking.fluent: Experiment with name 'Lead_Scoring_mlflow_production' does not exist. Creating a new experiment.\n",
      "Successfully registered model 'LightGBM'.\n",
      "2022/10/05 05:54:31 INFO mlflow.tracking._model_registry.client: Waiting up to 300 seconds for model version to finish creation.                     Model name: LightGBM, version 1\n",
      "Created version '1' of model 'LightGBM'.\n"
     ]
    }
   ],
   "source": [
    "#utils = module_from_file(\"utils\", \"/home/airflow/dags/Lead_scoring_training_pipeline/utils.py\")\n",
    "utils.get_trained_model(\"/home/airflow/dags/Lead_scoring_data_pipeline/\", \"lead_scoring_data_cleaning.db\")"
   ]
  },
  {
   "cell_type": "code",
   "execution_count": null,
   "id": "cf4a1950-9d66-4bde-8fa4-94517aac3d5d",
   "metadata": {},
   "outputs": [],
   "source": []
  }
 ],
 "metadata": {
  "kernelspec": {
   "display_name": "Python 3 (ipykernel)",
   "language": "python",
   "name": "python3"
  },
  "language_info": {
   "codemirror_mode": {
    "name": "ipython",
    "version": 3
   },
   "file_extension": ".py",
   "mimetype": "text/x-python",
   "name": "python",
   "nbconvert_exporter": "python",
   "pygments_lexer": "ipython3",
   "version": "3.8.12"
  }
 },
 "nbformat": 4,
 "nbformat_minor": 5
}
